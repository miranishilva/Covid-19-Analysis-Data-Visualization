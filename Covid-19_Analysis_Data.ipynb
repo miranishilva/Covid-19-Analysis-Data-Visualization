{
  "nbformat": 4,
  "nbformat_minor": 0,
  "metadata": {
    "colab": {
      "name": "Untitled33.ipynb",
      "provenance": [],
      "collapsed_sections": [],
      "authorship_tag": "ABX9TyPU/YwRWM6tc4vmZ4lp+HZ4",
      "include_colab_link": true
    },
    "kernelspec": {
      "name": "ir",
      "display_name": "R"
    },
    "language_info": {
      "name": "R"
    },
    "accelerator": "GPU"
  },
  "cells": [
    {
      "cell_type": "markdown",
      "metadata": {
        "id": "view-in-github",
        "colab_type": "text"
      },
      "source": [
        "<a href=\"https://colab.research.google.com/github/miranishilva/Covid-19-Analysis-Data-Visualization/blob/main/Covid-19_Analysis_Data.ipynb\" target=\"_parent\"><img src=\"https://colab.research.google.com/assets/colab-badge.svg\" alt=\"Open In Colab\"/></a>"
      ]
    },
    {
      "cell_type": "markdown",
      "metadata": {
        "id": "MA0xU8RJNrKv"
      },
      "source": [
        "# **Eksplorasi COVID19 di Indonesia**\n",
        "Notebook ini merupakan eksplorasi pada data covid19 di Indonesia. Data diperoleh dari https://data.covid19.go.id/public/api/update.json dan di akses pada tanggal 2 Juli 2021, pukul 14.55. Eksplorasi hanya dilakukan dengan memvisualisasikan data. Notebook ini hanya eksplorasi pribadi, dimana saya juga sedang belajar menggunakan python untuk data analisis."
      ]
    },
    {
      "cell_type": "code",
      "metadata": {
        "colab": {
          "base_uri": "https://localhost:8080/"
        },
        "id": "haHzgAZguyQi",
        "outputId": "8dc786ab-4b79-4832-9f76-3c7dc0f49a90"
      },
      "source": [
        "install.packages(\"httr\")"
      ],
      "execution_count": 79,
      "outputs": [
        {
          "output_type": "stream",
          "text": [
            "Installing package into ‘/usr/local/lib/R/site-library’\n",
            "(as ‘lib’ is unspecified)\n",
            "\n"
          ],
          "name": "stderr"
        }
      ]
    },
    {
      "cell_type": "code",
      "metadata": {
        "id": "m-D8s-B3umwG"
      },
      "source": [
        "library(httr)"
      ],
      "execution_count": 80,
      "outputs": []
    },
    {
      "cell_type": "markdown",
      "metadata": {
        "id": "rL65FBu2PEb3"
      },
      "source": [
        "mengakses API covid.go.id untuk mendapatkan dataset. Kode respon yang diperoleh adalah 200 yang berarti API berhasil diakses"
      ]
    },
    {
      "cell_type": "code",
      "metadata": {
        "colab": {
          "base_uri": "https://localhost:8080/",
          "height": 34
        },
        "id": "wWwVzPSJvHFq",
        "outputId": "aa179a15-0e68-4b18-d1c2-cbfa18ffaedf"
      },
      "source": [
        "resp <- GET (\"https://data.covid19.go.id/public/api/update.json\")\n",
        "status_code(resp)"
      ],
      "execution_count": 81,
      "outputs": [
        {
          "output_type": "display_data",
          "data": {
            "text/plain": [
              "[1] 200"
            ],
            "text/latex": "200",
            "text/markdown": "200",
            "text/html": [
              "200"
            ]
          },
          "metadata": {
            "tags": []
          }
        }
      ]
    },
    {
      "cell_type": "markdown",
      "metadata": {
        "id": "GbiyDK_UvPjs"
      },
      "source": [
        ""
      ]
    },
    {
      "cell_type": "code",
      "metadata": {
        "colab": {
          "base_uri": "https://localhost:8080/",
          "height": 552
        },
        "id": "9PUSnIL5vQJq",
        "outputId": "b3d80631-b027-45e5-8a99-eb5bbc725e2f"
      },
      "source": [
        "headers(resp)"
      ],
      "execution_count": 82,
      "outputs": [
        {
          "output_type": "display_data",
          "data": {
            "text/plain": [
              "$server\n",
              "[1] \"nginx\"\n",
              "\n",
              "$date\n",
              "[1] \"Fri, 02 Jul 2021 08:20:55 GMT\"\n",
              "\n",
              "$`content-type`\n",
              "[1] \"application/json\"\n",
              "\n",
              "$`transfer-encoding`\n",
              "[1] \"chunked\"\n",
              "\n",
              "$connection\n",
              "[1] \"keep-alive\"\n",
              "\n",
              "$vary\n",
              "[1] \"Accept-Encoding\"\n",
              "\n",
              "$`last-modified`\n",
              "[1] \"Fri, 02 Jul 2021 08:16:19 GMT\"\n",
              "\n",
              "$vary\n",
              "[1] \"Accept-Encoding\"\n",
              "\n",
              "$etag\n",
              "[1] \"W/\\\"60decb53-2de5c\\\"\"\n",
              "\n",
              "$`x-content-type-options`\n",
              "[1] \"nosniff\"\n",
              "\n",
              "$`x-xss-protection`\n",
              "[1] \"1; mode=block\"\n",
              "\n",
              "$`strict-transport-security`\n",
              "[1] \"max-age=31536000; includeSubDomains; preload\"\n",
              "\n",
              "$`x-content-type-options`\n",
              "[1] \"nosniff\"\n",
              "\n",
              "$`x-xss-protection`\n",
              "[1] \"1; mode=block\"\n",
              "\n",
              "$`content-encoding`\n",
              "[1] \"gzip\"\n",
              "\n",
              "attr(,\"class\")\n",
              "[1] \"insensitive\" \"list\"       "
            ],
            "text/latex": "\\begin{description}\n\\item[\\$server] 'nginx'\n\\item[\\$date] 'Fri, 02 Jul 2021 08:20:55 GMT'\n\\item[\\$`content-type`] 'application/json'\n\\item[\\$`transfer-encoding`] 'chunked'\n\\item[\\$connection] 'keep-alive'\n\\item[\\$vary] 'Accept-Encoding'\n\\item[\\$`last-modified`] 'Fri, 02 Jul 2021 08:16:19 GMT'\n\\item[\\$vary] 'Accept-Encoding'\n\\item[\\$etag] 'W/\"60decb53-2de5c\"'\n\\item[\\$`x-content-type-options`] 'nosniff'\n\\item[\\$`x-xss-protection`] '1; mode=block'\n\\item[\\$`strict-transport-security`] 'max-age=31536000; includeSubDomains; preload'\n\\item[\\$`x-content-type-options`] 'nosniff'\n\\item[\\$`x-xss-protection`] '1; mode=block'\n\\item[\\$`content-encoding`] 'gzip'\n\\end{description}\n",
            "text/markdown": "$server\n:   'nginx'\n$date\n:   'Fri, 02 Jul 2021 08:20:55 GMT'\n$`content-type`\n:   'application/json'\n$`transfer-encoding`\n:   'chunked'\n$connection\n:   'keep-alive'\n$vary\n:   'Accept-Encoding'\n$`last-modified`\n:   'Fri, 02 Jul 2021 08:16:19 GMT'\n$vary\n:   'Accept-Encoding'\n$etag\n:   'W/\"60decb53-2de5c\"'\n$`x-content-type-options`\n:   'nosniff'\n$`x-xss-protection`\n:   '1; mode=block'\n$`strict-transport-security`\n:   'max-age=31536000; includeSubDomains; preload'\n$`x-content-type-options`\n:   'nosniff'\n$`x-xss-protection`\n:   '1; mode=block'\n$`content-encoding`\n:   'gzip'\n\n\n",
            "text/html": [
              "<dl>\n",
              "\t<dt>$server</dt>\n",
              "\t\t<dd>'nginx'</dd>\n",
              "\t<dt>$date</dt>\n",
              "\t\t<dd>'Fri, 02 Jul 2021 08:20:55 GMT'</dd>\n",
              "\t<dt>$`content-type`</dt>\n",
              "\t\t<dd>'application/json'</dd>\n",
              "\t<dt>$`transfer-encoding`</dt>\n",
              "\t\t<dd>'chunked'</dd>\n",
              "\t<dt>$connection</dt>\n",
              "\t\t<dd>'keep-alive'</dd>\n",
              "\t<dt>$vary</dt>\n",
              "\t\t<dd>'Accept-Encoding'</dd>\n",
              "\t<dt>$`last-modified`</dt>\n",
              "\t\t<dd>'Fri, 02 Jul 2021 08:16:19 GMT'</dd>\n",
              "\t<dt>$vary</dt>\n",
              "\t\t<dd>'Accept-Encoding'</dd>\n",
              "\t<dt>$etag</dt>\n",
              "\t\t<dd>'W/\"60decb53-2de5c\"'</dd>\n",
              "\t<dt>$`x-content-type-options`</dt>\n",
              "\t\t<dd>'nosniff'</dd>\n",
              "\t<dt>$`x-xss-protection`</dt>\n",
              "\t\t<dd>'1; mode=block'</dd>\n",
              "\t<dt>$`strict-transport-security`</dt>\n",
              "\t\t<dd>'max-age=31536000; includeSubDomains; preload'</dd>\n",
              "\t<dt>$`x-content-type-options`</dt>\n",
              "\t\t<dd>'nosniff'</dd>\n",
              "\t<dt>$`x-xss-protection`</dt>\n",
              "\t\t<dd>'1; mode=block'</dd>\n",
              "\t<dt>$`content-encoding`</dt>\n",
              "\t\t<dd>'gzip'</dd>\n",
              "</dl>\n"
            ]
          },
          "metadata": {
            "tags": []
          }
        }
      ]
    },
    {
      "cell_type": "markdown",
      "metadata": {
        "id": "J-41KkARPnA9"
      },
      "source": [
        "Mengekstrak dataset yang kemudian menyimpannya kedalam variabel cov_id_raw"
      ]
    },
    {
      "cell_type": "code",
      "metadata": {
        "id": "_HYFxeeUvU3l"
      },
      "source": [
        "cov_id_raw <- content(resp, as=\"parsed\", simplifyVector=TRUE )"
      ],
      "execution_count": 83,
      "outputs": []
    },
    {
      "cell_type": "markdown",
      "metadata": {
        "id": "VljrebUdOLat"
      },
      "source": [
        "Berdasarkan informasi dibawah ini dapat dilihat bahwa dataset yang diakses memiliki 2 kolom yaitu kolom data dan kolom update"
      ]
    },
    {
      "cell_type": "code",
      "metadata": {
        "colab": {
          "base_uri": "https://localhost:8080/",
          "height": 51
        },
        "id": "_k-_o2i8vaq7",
        "outputId": "2f4c89eb-4f12-4516-a61b-c42fd5477c59"
      },
      "source": [
        "length(cov_id_raw)\n",
        "names(cov_id_raw)\n"
      ],
      "execution_count": 84,
      "outputs": [
        {
          "output_type": "display_data",
          "data": {
            "text/plain": [
              "[1] 2"
            ],
            "text/latex": "2",
            "text/markdown": "2",
            "text/html": [
              "2"
            ]
          },
          "metadata": {
            "tags": []
          }
        },
        {
          "output_type": "display_data",
          "data": {
            "text/plain": [
              "[1] \"data\"   \"update\""
            ],
            "text/latex": "\\begin{enumerate*}\n\\item 'data'\n\\item 'update'\n\\end{enumerate*}\n",
            "text/markdown": "1. 'data'\n2. 'update'\n\n\n",
            "text/html": [
              "<style>\n",
              ".list-inline {list-style: none; margin:0; padding: 0}\n",
              ".list-inline>li {display: inline-block}\n",
              ".list-inline>li:not(:last-child)::after {content: \"\\00b7\"; padding: 0 .5ex}\n",
              "</style>\n",
              "<ol class=list-inline><li>'data'</li><li>'update'</li></ol>\n"
            ]
          },
          "metadata": {
            "tags": []
          }
        }
      ]
    },
    {
      "cell_type": "code",
      "metadata": {
        "colab": {
          "base_uri": "https://localhost:8080/",
          "height": 147
        },
        "id": "x7qcDqTtvgvw",
        "outputId": "56bc2971-6a16-4b3f-8755-2ae275b27d13"
      },
      "source": [
        "cov_id_update <- cov_id_raw$update\n",
        "lapply(cov_id_update, names)"
      ],
      "execution_count": 85,
      "outputs": [
        {
          "output_type": "display_data",
          "data": {
            "text/plain": [
              "$penambahan\n",
              "[1] \"jumlah_positif\"   \"jumlah_meninggal\" \"jumlah_sembuh\"    \"jumlah_dirawat\"  \n",
              "[5] \"tanggal\"          \"created\"         \n",
              "\n",
              "$harian\n",
              " [1] \"key_as_string\"        \"key\"                  \"doc_count\"           \n",
              " [4] \"jumlah_meninggal\"     \"jumlah_sembuh\"        \"jumlah_positif\"      \n",
              " [7] \"jumlah_dirawat\"       \"jumlah_positif_kum\"   \"jumlah_sembuh_kum\"   \n",
              "[10] \"jumlah_meninggal_kum\" \"jumlah_dirawat_kum\"  \n",
              "\n",
              "$total\n",
              "[1] \"jumlah_positif\"   \"jumlah_dirawat\"   \"jumlah_sembuh\"    \"jumlah_meninggal\"\n"
            ],
            "text/latex": "\\begin{description}\n\\item[\\$penambahan] \\begin{enumerate*}\n\\item 'jumlah\\_positif'\n\\item 'jumlah\\_meninggal'\n\\item 'jumlah\\_sembuh'\n\\item 'jumlah\\_dirawat'\n\\item 'tanggal'\n\\item 'created'\n\\end{enumerate*}\n\n\\item[\\$harian] \\begin{enumerate*}\n\\item 'key\\_as\\_string'\n\\item 'key'\n\\item 'doc\\_count'\n\\item 'jumlah\\_meninggal'\n\\item 'jumlah\\_sembuh'\n\\item 'jumlah\\_positif'\n\\item 'jumlah\\_dirawat'\n\\item 'jumlah\\_positif\\_kum'\n\\item 'jumlah\\_sembuh\\_kum'\n\\item 'jumlah\\_meninggal\\_kum'\n\\item 'jumlah\\_dirawat\\_kum'\n\\end{enumerate*}\n\n\\item[\\$total] \\begin{enumerate*}\n\\item 'jumlah\\_positif'\n\\item 'jumlah\\_dirawat'\n\\item 'jumlah\\_sembuh'\n\\item 'jumlah\\_meninggal'\n\\end{enumerate*}\n\n\\end{description}\n",
            "text/markdown": "$penambahan\n:   1. 'jumlah_positif'\n2. 'jumlah_meninggal'\n3. 'jumlah_sembuh'\n4. 'jumlah_dirawat'\n5. 'tanggal'\n6. 'created'\n\n\n\n$harian\n:   1. 'key_as_string'\n2. 'key'\n3. 'doc_count'\n4. 'jumlah_meninggal'\n5. 'jumlah_sembuh'\n6. 'jumlah_positif'\n7. 'jumlah_dirawat'\n8. 'jumlah_positif_kum'\n9. 'jumlah_sembuh_kum'\n10. 'jumlah_meninggal_kum'\n11. 'jumlah_dirawat_kum'\n\n\n\n$total\n:   1. 'jumlah_positif'\n2. 'jumlah_dirawat'\n3. 'jumlah_sembuh'\n4. 'jumlah_meninggal'\n\n\n\n\n\n",
            "text/html": [
              "<dl>\n",
              "\t<dt>$penambahan</dt>\n",
              "\t\t<dd><style>\n",
              ".list-inline {list-style: none; margin:0; padding: 0}\n",
              ".list-inline>li {display: inline-block}\n",
              ".list-inline>li:not(:last-child)::after {content: \"\\00b7\"; padding: 0 .5ex}\n",
              "</style>\n",
              "<ol class=list-inline><li>'jumlah_positif'</li><li>'jumlah_meninggal'</li><li>'jumlah_sembuh'</li><li>'jumlah_dirawat'</li><li>'tanggal'</li><li>'created'</li></ol>\n",
              "</dd>\n",
              "\t<dt>$harian</dt>\n",
              "\t\t<dd><style>\n",
              ".list-inline {list-style: none; margin:0; padding: 0}\n",
              ".list-inline>li {display: inline-block}\n",
              ".list-inline>li:not(:last-child)::after {content: \"\\00b7\"; padding: 0 .5ex}\n",
              "</style>\n",
              "<ol class=list-inline><li>'key_as_string'</li><li>'key'</li><li>'doc_count'</li><li>'jumlah_meninggal'</li><li>'jumlah_sembuh'</li><li>'jumlah_positif'</li><li>'jumlah_dirawat'</li><li>'jumlah_positif_kum'</li><li>'jumlah_sembuh_kum'</li><li>'jumlah_meninggal_kum'</li><li>'jumlah_dirawat_kum'</li></ol>\n",
              "</dd>\n",
              "\t<dt>$total</dt>\n",
              "\t\t<dd><style>\n",
              ".list-inline {list-style: none; margin:0; padding: 0}\n",
              ".list-inline>li {display: inline-block}\n",
              ".list-inline>li:not(:last-child)::after {content: \"\\00b7\"; padding: 0 .5ex}\n",
              "</style>\n",
              "<ol class=list-inline><li>'jumlah_positif'</li><li>'jumlah_dirawat'</li><li>'jumlah_sembuh'</li><li>'jumlah_meninggal'</li></ol>\n",
              "</dd>\n",
              "</dl>\n"
            ]
          },
          "metadata": {
            "tags": []
          }
        }
      ]
    },
    {
      "cell_type": "markdown",
      "metadata": {
        "id": "l-Itkee_P5wh"
      },
      "source": [
        "berdasarkan informasi dibawah dapat disimpulkan bahwa data tersebut terakhir diperbarui pada tanggal 1 Juli 2021 dengan total penambahan pasien sembuh 9874 pasien, penambahan pasien yang meninggal sebanyak 504 pasien. Sedangkan untuk total jumlah positif sebanyak 2.203.108 orang dan total pasien yang meninggal sebanyak 58.995 orang."
      ]
    },
    {
      "cell_type": "code",
      "metadata": {
        "colab": {
          "base_uri": "https://localhost:8080/",
          "height": 101
        },
        "id": "VRzfKznnvkRY",
        "outputId": "81e84a72-3a83-4137-f910-4c5e127752d9"
      },
      "source": [
        "cov_id_update$penambahan$tanggal\n",
        "cov_id_update$penambahan$jumlah_sembuh\n",
        "cov_id_update$penambahan$jumlah_meninggal\n",
        "cov_id_update$total$jumlah_positif\n",
        "cov_id_update$total$jumlah_meninggal"
      ],
      "execution_count": 86,
      "outputs": [
        {
          "output_type": "display_data",
          "data": {
            "text/plain": [
              "[1] \"2021-07-01\""
            ],
            "text/latex": "'2021-07-01'",
            "text/markdown": "'2021-07-01'",
            "text/html": [
              "'2021-07-01'"
            ]
          },
          "metadata": {
            "tags": []
          }
        },
        {
          "output_type": "display_data",
          "data": {
            "text/plain": [
              "[1] 9874"
            ],
            "text/latex": "9874",
            "text/markdown": "9874",
            "text/html": [
              "9874"
            ]
          },
          "metadata": {
            "tags": []
          }
        },
        {
          "output_type": "display_data",
          "data": {
            "text/plain": [
              "[1] 504"
            ],
            "text/latex": "504",
            "text/markdown": "504",
            "text/html": [
              "504"
            ]
          },
          "metadata": {
            "tags": []
          }
        },
        {
          "output_type": "display_data",
          "data": {
            "text/plain": [
              "[1] 2203108"
            ],
            "text/latex": "2203108",
            "text/markdown": "2203108",
            "text/html": [
              "2203108"
            ]
          },
          "metadata": {
            "tags": []
          }
        },
        {
          "output_type": "display_data",
          "data": {
            "text/plain": [
              "[1] 58995"
            ],
            "text/latex": "58995",
            "text/markdown": "58995",
            "text/html": [
              "58995"
            ]
          },
          "metadata": {
            "tags": []
          }
        }
      ]
    },
    {
      "cell_type": "markdown",
      "metadata": {
        "id": "OhBuNgd2Qlbu"
      },
      "source": [
        "# **Eksplorasi Covid-19 di Jawa Barat**\n",
        "Data diperoleh dari \"https://data.covid19.go.id/public/api/prov_detail_JAWA_BARAT.json\" dan di akses pada tanggal 2 Juli 2021, pukul 14.55. Eksplorasi hanya dilakukan dengan memvisualisasikan data. "
      ]
    },
    {
      "cell_type": "markdown",
      "metadata": {
        "id": "BgRB9vNaRC18"
      },
      "source": [
        "Berdasrkan informasi berikut dapat disimpulkan bahwa total kasus Covid-19 di Jawa barat terdpat 350.719 kasus dengan tingkat kematian 1.34% dan tingkat pasien yang sembuh sebanyak 89.39%"
      ]
    },
    {
      "cell_type": "code",
      "metadata": {
        "colab": {
          "base_uri": "https://localhost:8080/",
          "height": 84
        },
        "id": "UIb-AeeKvsYw",
        "outputId": "41726ec5-e4cb-4a58-913a-f53ef67af5be"
      },
      "source": [
        "resp_jabar <- GET(\"https://data.covid19.go.id/public/api/prov_detail_JAWA_BARAT.json\")\n",
        "cov_jabar_raw <- content(resp_jabar, as=\"parsed\", simplifyVector=TRUE)\n",
        "names(cov_jabar_raw)\n",
        "cov_jabar_raw$kasus_total\n",
        "cov_jabar_raw$meninggal_persen\n",
        "cov_jabar_raw$sembuh_persen"
      ],
      "execution_count": 87,
      "outputs": [
        {
          "output_type": "display_data",
          "data": {
            "text/plain": [
              " [1] \"last_date\"            \"provinsi\"             \"kasus_total\"         \n",
              " [4] \"kasus_tanpa_tgl\"      \"kasus_dengan_tgl\"     \"meninggal_persen\"    \n",
              " [7] \"meninggal_tanpa_tgl\"  \"meninggal_dengan_tgl\" \"sembuh_persen\"       \n",
              "[10] \"sembuh_tanpa_tgl\"     \"sembuh_dengan_tgl\"    \"list_perkembangan\"   \n",
              "[13] \"data\"                "
            ],
            "text/latex": "\\begin{enumerate*}\n\\item 'last\\_date'\n\\item 'provinsi'\n\\item 'kasus\\_total'\n\\item 'kasus\\_tanpa\\_tgl'\n\\item 'kasus\\_dengan\\_tgl'\n\\item 'meninggal\\_persen'\n\\item 'meninggal\\_tanpa\\_tgl'\n\\item 'meninggal\\_dengan\\_tgl'\n\\item 'sembuh\\_persen'\n\\item 'sembuh\\_tanpa\\_tgl'\n\\item 'sembuh\\_dengan\\_tgl'\n\\item 'list\\_perkembangan'\n\\item 'data'\n\\end{enumerate*}\n",
            "text/markdown": "1. 'last_date'\n2. 'provinsi'\n3. 'kasus_total'\n4. 'kasus_tanpa_tgl'\n5. 'kasus_dengan_tgl'\n6. 'meninggal_persen'\n7. 'meninggal_tanpa_tgl'\n8. 'meninggal_dengan_tgl'\n9. 'sembuh_persen'\n10. 'sembuh_tanpa_tgl'\n11. 'sembuh_dengan_tgl'\n12. 'list_perkembangan'\n13. 'data'\n\n\n",
            "text/html": [
              "<style>\n",
              ".list-inline {list-style: none; margin:0; padding: 0}\n",
              ".list-inline>li {display: inline-block}\n",
              ".list-inline>li:not(:last-child)::after {content: \"\\00b7\"; padding: 0 .5ex}\n",
              "</style>\n",
              "<ol class=list-inline><li>'last_date'</li><li>'provinsi'</li><li>'kasus_total'</li><li>'kasus_tanpa_tgl'</li><li>'kasus_dengan_tgl'</li><li>'meninggal_persen'</li><li>'meninggal_tanpa_tgl'</li><li>'meninggal_dengan_tgl'</li><li>'sembuh_persen'</li><li>'sembuh_tanpa_tgl'</li><li>'sembuh_dengan_tgl'</li><li>'list_perkembangan'</li><li>'data'</li></ol>\n"
            ]
          },
          "metadata": {
            "tags": []
          }
        },
        {
          "output_type": "display_data",
          "data": {
            "text/plain": [
              "[1] 350719"
            ],
            "text/latex": "350719",
            "text/markdown": "350719",
            "text/html": [
              "350719"
            ]
          },
          "metadata": {
            "tags": []
          }
        },
        {
          "output_type": "display_data",
          "data": {
            "text/plain": [
              "[1] 1.342385"
            ],
            "text/latex": "1.3423852143739",
            "text/markdown": "1.3423852143739",
            "text/html": [
              "1.3423852143739"
            ]
          },
          "metadata": {
            "tags": []
          }
        },
        {
          "output_type": "display_data",
          "data": {
            "text/plain": [
              "[1] 89.39521"
            ],
            "text/latex": "89.3952138321562",
            "text/markdown": "89.3952138321562",
            "text/html": [
              "89.3952138321562"
            ]
          },
          "metadata": {
            "tags": []
          }
        }
      ]
    },
    {
      "cell_type": "markdown",
      "metadata": {
        "id": "kIZz5aRVQkPe"
      },
      "source": [
        "pada dataset tersebut terdapat 9 variabel"
      ]
    },
    {
      "cell_type": "code",
      "metadata": {
        "colab": {
          "base_uri": "https://localhost:8080/",
          "height": 460
        },
        "id": "gpN9o8NRvwhB",
        "outputId": "4684f162-abd7-47d3-a816-d237efc3f4af"
      },
      "source": [
        "cov_jabar <- cov_jabar_raw$list_perkembangan\n",
        "str(cov_jabar)\n",
        "head(cov_jabar)"
      ],
      "execution_count": 88,
      "outputs": [
        {
          "output_type": "stream",
          "text": [
            "'data.frame':\t478 obs. of  9 variables:\n",
            " $ tanggal                     : num  1.58e+12 1.58e+12 1.58e+12 1.58e+12 1.58e+12 ...\n",
            " $ KASUS                       : int  3 1 1 1 1 0 0 0 0 0 ...\n",
            " $ MENINGGAL                   : int  0 1 0 0 0 0 0 0 0 1 ...\n",
            " $ SEMBUH                      : int  0 0 0 0 0 0 0 0 0 0 ...\n",
            " $ DIRAWAT_OR_ISOLASI          : int  3 0 1 1 1 0 0 0 0 -1 ...\n",
            " $ AKUMULASI_KASUS             : int  3 4 5 6 7 7 7 7 7 7 ...\n",
            " $ AKUMULASI_SEMBUH            : int  0 0 0 0 0 0 0 0 0 0 ...\n",
            " $ AKUMULASI_MENINGGAL         : int  0 1 1 1 1 1 1 1 1 2 ...\n",
            " $ AKUMULASI_DIRAWAT_OR_ISOLASI: int  3 3 4 5 6 6 6 6 6 5 ...\n"
          ],
          "name": "stdout"
        },
        {
          "output_type": "display_data",
          "data": {
            "text/plain": [
              "  tanggal      KASUS MENINGGAL SEMBUH DIRAWAT_OR_ISOLASI AKUMULASI_KASUS\n",
              "1 1.583107e+12 3     0         0      3                  3              \n",
              "2 1.583194e+12 1     1         0      0                  4              \n",
              "3 1.583280e+12 1     0         0      1                  5              \n",
              "4 1.583366e+12 1     0         0      1                  6              \n",
              "5 1.583453e+12 1     0         0      1                  7              \n",
              "6 1.583539e+12 0     0         0      0                  7              \n",
              "  AKUMULASI_SEMBUH AKUMULASI_MENINGGAL AKUMULASI_DIRAWAT_OR_ISOLASI\n",
              "1 0                0                   3                           \n",
              "2 0                1                   3                           \n",
              "3 0                1                   4                           \n",
              "4 0                1                   5                           \n",
              "5 0                1                   6                           \n",
              "6 0                1                   6                           "
            ],
            "text/latex": "A data.frame: 6 × 9\n\\begin{tabular}{r|lllllllll}\n  & tanggal & KASUS & MENINGGAL & SEMBUH & DIRAWAT\\_OR\\_ISOLASI & AKUMULASI\\_KASUS & AKUMULASI\\_SEMBUH & AKUMULASI\\_MENINGGAL & AKUMULASI\\_DIRAWAT\\_OR\\_ISOLASI\\\\\n  & <dbl> & <int> & <int> & <int> & <int> & <int> & <int> & <int> & <int>\\\\\n\\hline\n\t1 & 1.583107e+12 & 3 & 0 & 0 & 3 & 3 & 0 & 0 & 3\\\\\n\t2 & 1.583194e+12 & 1 & 1 & 0 & 0 & 4 & 0 & 1 & 3\\\\\n\t3 & 1.583280e+12 & 1 & 0 & 0 & 1 & 5 & 0 & 1 & 4\\\\\n\t4 & 1.583366e+12 & 1 & 0 & 0 & 1 & 6 & 0 & 1 & 5\\\\\n\t5 & 1.583453e+12 & 1 & 0 & 0 & 1 & 7 & 0 & 1 & 6\\\\\n\t6 & 1.583539e+12 & 0 & 0 & 0 & 0 & 7 & 0 & 1 & 6\\\\\n\\end{tabular}\n",
            "text/markdown": "\nA data.frame: 6 × 9\n\n| <!--/--> | tanggal &lt;dbl&gt; | KASUS &lt;int&gt; | MENINGGAL &lt;int&gt; | SEMBUH &lt;int&gt; | DIRAWAT_OR_ISOLASI &lt;int&gt; | AKUMULASI_KASUS &lt;int&gt; | AKUMULASI_SEMBUH &lt;int&gt; | AKUMULASI_MENINGGAL &lt;int&gt; | AKUMULASI_DIRAWAT_OR_ISOLASI &lt;int&gt; |\n|---|---|---|---|---|---|---|---|---|---|\n| 1 | 1.583107e+12 | 3 | 0 | 0 | 3 | 3 | 0 | 0 | 3 |\n| 2 | 1.583194e+12 | 1 | 1 | 0 | 0 | 4 | 0 | 1 | 3 |\n| 3 | 1.583280e+12 | 1 | 0 | 0 | 1 | 5 | 0 | 1 | 4 |\n| 4 | 1.583366e+12 | 1 | 0 | 0 | 1 | 6 | 0 | 1 | 5 |\n| 5 | 1.583453e+12 | 1 | 0 | 0 | 1 | 7 | 0 | 1 | 6 |\n| 6 | 1.583539e+12 | 0 | 0 | 0 | 0 | 7 | 0 | 1 | 6 |\n\n",
            "text/html": [
              "<table class=\"dataframe\">\n",
              "<caption>A data.frame: 6 × 9</caption>\n",
              "<thead>\n",
              "\t<tr><th></th><th scope=col>tanggal</th><th scope=col>KASUS</th><th scope=col>MENINGGAL</th><th scope=col>SEMBUH</th><th scope=col>DIRAWAT_OR_ISOLASI</th><th scope=col>AKUMULASI_KASUS</th><th scope=col>AKUMULASI_SEMBUH</th><th scope=col>AKUMULASI_MENINGGAL</th><th scope=col>AKUMULASI_DIRAWAT_OR_ISOLASI</th></tr>\n",
              "\t<tr><th></th><th scope=col>&lt;dbl&gt;</th><th scope=col>&lt;int&gt;</th><th scope=col>&lt;int&gt;</th><th scope=col>&lt;int&gt;</th><th scope=col>&lt;int&gt;</th><th scope=col>&lt;int&gt;</th><th scope=col>&lt;int&gt;</th><th scope=col>&lt;int&gt;</th><th scope=col>&lt;int&gt;</th></tr>\n",
              "</thead>\n",
              "<tbody>\n",
              "\t<tr><th scope=row>1</th><td>1.583107e+12</td><td>3</td><td>0</td><td>0</td><td>3</td><td>3</td><td>0</td><td>0</td><td>3</td></tr>\n",
              "\t<tr><th scope=row>2</th><td>1.583194e+12</td><td>1</td><td>1</td><td>0</td><td>0</td><td>4</td><td>0</td><td>1</td><td>3</td></tr>\n",
              "\t<tr><th scope=row>3</th><td>1.583280e+12</td><td>1</td><td>0</td><td>0</td><td>1</td><td>5</td><td>0</td><td>1</td><td>4</td></tr>\n",
              "\t<tr><th scope=row>4</th><td>1.583366e+12</td><td>1</td><td>0</td><td>0</td><td>1</td><td>6</td><td>0</td><td>1</td><td>5</td></tr>\n",
              "\t<tr><th scope=row>5</th><td>1.583453e+12</td><td>1</td><td>0</td><td>0</td><td>1</td><td>7</td><td>0</td><td>1</td><td>6</td></tr>\n",
              "\t<tr><th scope=row>6</th><td>1.583539e+12</td><td>0</td><td>0</td><td>0</td><td>0</td><td>7</td><td>0</td><td>1</td><td>6</td></tr>\n",
              "</tbody>\n",
              "</table>\n"
            ]
          },
          "metadata": {
            "tags": []
          }
        }
      ]
    },
    {
      "cell_type": "code",
      "metadata": {
        "colab": {
          "base_uri": "https://localhost:8080/"
        },
        "id": "mHlyyAtXFyrj",
        "outputId": "887eb09a-b1df-4882-fb25-774da3c82369"
      },
      "source": [
        "devtools::install_github(\"tidyverse/tidyverse\")"
      ],
      "execution_count": 89,
      "outputs": [
        {
          "output_type": "stream",
          "text": [
            "Skipping install of 'tidyverse' from a github remote, the SHA1 (195d8a45) has not changed since last install.\n",
            "  Use `force = TRUE` to force installation\n",
            "\n"
          ],
          "name": "stderr"
        }
      ]
    },
    {
      "cell_type": "code",
      "metadata": {
        "colab": {
          "base_uri": "https://localhost:8080/"
        },
        "id": "nYtmfmIQv1rH",
        "outputId": "71b26012-0564-41dd-f5ce-b8826f888700"
      },
      "source": [
        "install.packages(\"dplyr\")\n",
        "library(dplyr)"
      ],
      "execution_count": 90,
      "outputs": [
        {
          "output_type": "stream",
          "text": [
            "Installing package into ‘/usr/local/lib/R/site-library’\n",
            "(as ‘lib’ is unspecified)\n",
            "\n"
          ],
          "name": "stderr"
        }
      ]
    },
    {
      "cell_type": "markdown",
      "metadata": {
        "id": "rUavJzQUTwrq"
      },
      "source": [
        "merubah format tanggal bulan-tahun untuk ditampilkan pada grafik"
      ]
    },
    {
      "cell_type": "code",
      "metadata": {
        "colab": {
          "base_uri": "https://localhost:8080/",
          "height": 371
        },
        "id": "DsMiGzqEv9Qx",
        "outputId": "450ae30b-6428-41ac-e1b2-264ffdcf010d"
      },
      "source": [
        "new_cov_jabar <- cov_jabar %>%\n",
        "  select(-contains(\"DIRAWAT_OR_ISOLASI\")) %>%\n",
        "  select(-starts_with(\"AKUMULASI\")) %>%\n",
        "  rename(kasus_baru = KASUS,\n",
        "         meninggal = MENINGGAL,\n",
        "         sembuh = SEMBUH) %>%\n",
        "  mutate(\n",
        "     tanggal = as.POSIXct(tanggal/1000, origin = \"1970-12-03\"),\n",
        "    tanggal = as.Date(tanggal)\n",
        "  )\n",
        "str(new_cov_jabar)\n",
        "head(new_cov_jabar)"
      ],
      "execution_count": 106,
      "outputs": [
        {
          "output_type": "stream",
          "text": [
            "'data.frame':\t478 obs. of  4 variables:\n",
            " $ tanggal   : Date, format: \"2021-02-01\" \"2021-02-02\" ...\n",
            " $ kasus_baru: int  3 1 1 1 1 0 0 0 0 0 ...\n",
            " $ meninggal : int  0 1 0 0 0 0 0 0 0 1 ...\n",
            " $ sembuh    : int  0 0 0 0 0 0 0 0 0 0 ...\n"
          ],
          "name": "stdout"
        },
        {
          "output_type": "display_data",
          "data": {
            "text/plain": [
              "  tanggal    kasus_baru meninggal sembuh\n",
              "1 2021-02-01 3          0         0     \n",
              "2 2021-02-02 1          1         0     \n",
              "3 2021-02-03 1          0         0     \n",
              "4 2021-02-04 1          0         0     \n",
              "5 2021-02-05 1          0         0     \n",
              "6 2021-02-06 0          0         0     "
            ],
            "text/latex": "A data.frame: 6 × 4\n\\begin{tabular}{r|llll}\n  & tanggal & kasus\\_baru & meninggal & sembuh\\\\\n  & <date> & <int> & <int> & <int>\\\\\n\\hline\n\t1 & 2021-02-01 & 3 & 0 & 0\\\\\n\t2 & 2021-02-02 & 1 & 1 & 0\\\\\n\t3 & 2021-02-03 & 1 & 0 & 0\\\\\n\t4 & 2021-02-04 & 1 & 0 & 0\\\\\n\t5 & 2021-02-05 & 1 & 0 & 0\\\\\n\t6 & 2021-02-06 & 0 & 0 & 0\\\\\n\\end{tabular}\n",
            "text/markdown": "\nA data.frame: 6 × 4\n\n| <!--/--> | tanggal &lt;date&gt; | kasus_baru &lt;int&gt; | meninggal &lt;int&gt; | sembuh &lt;int&gt; |\n|---|---|---|---|---|\n| 1 | 2021-02-01 | 3 | 0 | 0 |\n| 2 | 2021-02-02 | 1 | 1 | 0 |\n| 3 | 2021-02-03 | 1 | 0 | 0 |\n| 4 | 2021-02-04 | 1 | 0 | 0 |\n| 5 | 2021-02-05 | 1 | 0 | 0 |\n| 6 | 2021-02-06 | 0 | 0 | 0 |\n\n",
            "text/html": [
              "<table class=\"dataframe\">\n",
              "<caption>A data.frame: 6 × 4</caption>\n",
              "<thead>\n",
              "\t<tr><th></th><th scope=col>tanggal</th><th scope=col>kasus_baru</th><th scope=col>meninggal</th><th scope=col>sembuh</th></tr>\n",
              "\t<tr><th></th><th scope=col>&lt;date&gt;</th><th scope=col>&lt;int&gt;</th><th scope=col>&lt;int&gt;</th><th scope=col>&lt;int&gt;</th></tr>\n",
              "</thead>\n",
              "<tbody>\n",
              "\t<tr><th scope=row>1</th><td>2021-02-01</td><td>3</td><td>0</td><td>0</td></tr>\n",
              "\t<tr><th scope=row>2</th><td>2021-02-02</td><td>1</td><td>1</td><td>0</td></tr>\n",
              "\t<tr><th scope=row>3</th><td>2021-02-03</td><td>1</td><td>0</td><td>0</td></tr>\n",
              "\t<tr><th scope=row>4</th><td>2021-02-04</td><td>1</td><td>0</td><td>0</td></tr>\n",
              "\t<tr><th scope=row>5</th><td>2021-02-05</td><td>1</td><td>0</td><td>0</td></tr>\n",
              "\t<tr><th scope=row>6</th><td>2021-02-06</td><td>0</td><td>0</td><td>0</td></tr>\n",
              "</tbody>\n",
              "</table>\n"
            ]
          },
          "metadata": {
            "tags": []
          }
        }
      ]
    },
    {
      "cell_type": "code",
      "metadata": {
        "colab": {
          "base_uri": "https://localhost:8080/"
        },
        "id": "lHXHC3vKwDJB",
        "outputId": "a43f5d1e-3d5a-40d4-c8cb-124cad14fa7a"
      },
      "source": [
        "\n",
        "install.packages(\"ggplot2\", repos='http://cran.us.r-project.org')\n",
        "library(ggplot2)"
      ],
      "execution_count": 92,
      "outputs": [
        {
          "output_type": "stream",
          "text": [
            "Installing package into ‘/usr/local/lib/R/site-library’\n",
            "(as ‘lib’ is unspecified)\n",
            "\n"
          ],
          "name": "stderr"
        }
      ]
    },
    {
      "cell_type": "code",
      "metadata": {
        "id": "Hozq_eXRwRsi",
        "colab": {
          "base_uri": "https://localhost:8080/"
        },
        "outputId": "9f85f0fd-2135-43cc-bab7-928e72c8c455"
      },
      "source": [
        "devtools::install_github(\"tidyverse/tidyverse\")"
      ],
      "execution_count": 93,
      "outputs": [
        {
          "output_type": "stream",
          "text": [
            "Skipping install of 'tidyverse' from a github remote, the SHA1 (195d8a45) has not changed since last install.\n",
            "  Use `force = TRUE` to force installation\n",
            "\n"
          ],
          "name": "stderr"
        }
      ]
    },
    {
      "cell_type": "code",
      "metadata": {
        "colab": {
          "base_uri": "https://localhost:8080/",
          "height": 437
        },
        "id": "yBwTFl1tMaew",
        "outputId": "6ffa0c28-c375-4784-f919-e4be637f934b"
      },
      "source": [
        "ggplot(data=new_cov_jabar, aes(tanggal,kasus_baru))+\n",
        "geom_col(fill=\"salmon\") +\n",
        "  labs(\n",
        "    x= NULL,\n",
        "    y= \"Jumlah Kasus\",\n",
        "    title = \"Kasus Harian Positif Covid-19 di Jawa Barat\",\n",
        "    subtitle = \"Terjadi pelonjakan kasus di awal bulan Juli akbiat klaster secapa AD Bandung\",\n",
        "    caption = \"Sumber data : covid.19.go.id\"\n",
        "  )"
      ],
      "execution_count": 94,
      "outputs": [
        {
          "output_type": "display_data",
          "data": {
            "image/png": "[encoded data removed]",
            "text/plain": [
              "plot without title"
            ]
          },
          "metadata": {
            "tags": [],
            "image/png": {
              "width": 420,
              "height": 420
            }
          }
        }
      ]
    },
    {
      "cell_type": "code",
      "metadata": {
        "colab": {
          "base_uri": "https://localhost:8080/",
          "height": 437
        },
        "id": "BKv-aNG6MgqN",
        "outputId": "e41982cf-653d-49a3-c634-08af04d53781"
      },
      "source": [
        "ggplot(data=new_cov_jabar, aes(tanggal,sembuh))+\n",
        "  geom_col(fill=\"olivedrab2\") +\n",
        "  labs(\n",
        "    x= NULL,\n",
        "    y= \"Jumlah Kasus\",\n",
        "    title = \"Kasus Harian Sembuh Dari COVID-19 di Jawa Barat\",\n",
        "    caption = \"Sumber data : covid.19.go.id\"\n",
        "  )"
      ],
      "execution_count": 95,
      "outputs": [
        {
          "output_type": "display_data",
          "data": {
            "image/png": "[encoded data removed]",
            "text/plain": [
              "plot without title"
            ]
          },
          "metadata": {
            "tags": [],
            "image/png": {
              "width": 420,
              "height": 420
            }
          }
        }
      ]
    },
    {
      "cell_type": "code",
      "metadata": {
        "colab": {
          "base_uri": "https://localhost:8080/",
          "height": 437
        },
        "id": "Wb1Mu94TMjd1",
        "outputId": "6b6a1b60-f7b0-40f4-cb05-643c54ab26f9"
      },
      "source": [
        "ggplot(data=new_cov_jabar, aes(tanggal,meninggal))+\n",
        "  geom_col(fill=\"darkslategray4\") +\n",
        "  labs(\n",
        "    x= NULL,\n",
        "    y= \"Jumlah Kasus\",\n",
        "    title = \"Kasus Harian meninggal Dari COVID-19 di Jawa Barat\",\n",
        "    caption = \"Sumber data : covid.19.go.id\"\n",
        "  )"
      ],
      "execution_count": 96,
      "outputs": [
        {
          "output_type": "display_data",
          "data": {
            "image/png": "[encoded data removed]",
            "text/plain": [
              "plot without title"
            ]
          },
          "metadata": {
            "tags": [],
            "image/png": {
              "width": 420,
              "height": 420
            }
          }
        }
      ]
    },
    {
      "cell_type": "code",
      "metadata": {
        "colab": {
          "base_uri": "https://localhost:8080/"
        },
        "id": "58MutpNPMldW",
        "outputId": "8932fad0-32e7-4118-f5b6-0c6a56841623"
      },
      "source": [
        "install.packages(\"lubridate\")\n",
        "library(lubridate)"
      ],
      "execution_count": 97,
      "outputs": [
        {
          "output_type": "stream",
          "text": [
            "Installing package into ‘/usr/local/lib/R/site-library’\n",
            "(as ‘lib’ is unspecified)\n",
            "\n"
          ],
          "name": "stderr"
        }
      ]
    },
    {
      "cell_type": "code",
      "metadata": {
        "colab": {
          "base_uri": "https://localhost:8080/"
        },
        "id": "p02TAgAbMn-l",
        "outputId": "db052ed4-9e94-4276-bed1-7daa759108e0"
      },
      "source": [
        "cov_jabar_pekanan <- new_cov_jabar %>%\n",
        "  count(\n",
        "    tahun = year(tanggal),\n",
        "    pekan_ke = week(tanggal),\n",
        "    wt = kasus_baru,\n",
        "    name = \"jumlah\"\n",
        "  )\n",
        "glimpse(cov_jabar_pekanan)"
      ],
      "execution_count": 98,
      "outputs": [
        {
          "output_type": "stream",
          "text": [
            "Rows: 70\n",
            "Columns: 3\n",
            "$ tahun    \u001b[3m\u001b[90m<dbl>\u001b[39m\u001b[23m 2021, 2021, 2021, 2021, 2021, 2021, 2021, 2021, 2021, 2021, 2…\n",
            "$ pekan_ke \u001b[3m\u001b[90m<dbl>\u001b[39m\u001b[23m 5, 6, 7, 8, 9, 10, 11, 12, 13, 14, 15, 16, 17, 18, 19, 20, 21…\n",
            "$ jumlah   \u001b[3m\u001b[90m<int>\u001b[39m\u001b[23m 6, 2, 28, 49, 178, 181, 233, 217, 235, 362, 186, 346, 226, 16…\n"
          ],
          "name": "stdout"
        }
      ]
    },
    {
      "cell_type": "code",
      "metadata": {
        "colab": {
          "base_uri": "https://localhost:8080/"
        },
        "id": "0vZzBfdAMpw3",
        "outputId": "fc97d91a-9afb-401c-a29f-dcaf679885e9"
      },
      "source": [
        "cov_jabar_pekanan <- \n",
        "  cov_jabar_pekanan %>%\n",
        "  mutate(\n",
        "    jumlah_pekanlalu = dplyr::lag(jumlah,1),\n",
        "    jumlah_pekanlalu = ifelse(is.na(jumlah_pekanlalu),0, jumlah_pekanlalu),\n",
        "    lebih_baik = jumlah < jumlah_pekanlalu\n",
        "  )\n",
        "glimpse(cov_jabar_pekanan)"
      ],
      "execution_count": 99,
      "outputs": [
        {
          "output_type": "stream",
          "text": [
            "Rows: 70\n",
            "Columns: 5\n",
            "$ tahun            \u001b[3m\u001b[90m<dbl>\u001b[39m\u001b[23m 2021, 2021, 2021, 2021, 2021, 2021, 2021, 2021, 2021,…\n",
            "$ pekan_ke         \u001b[3m\u001b[90m<dbl>\u001b[39m\u001b[23m 5, 6, 7, 8, 9, 10, 11, 12, 13, 14, 15, 16, 17, 18, 19…\n",
            "$ jumlah           \u001b[3m\u001b[90m<int>\u001b[39m\u001b[23m 6, 2, 28, 49, 178, 181, 233, 217, 235, 362, 186, 346,…\n",
            "$ jumlah_pekanlalu \u001b[3m\u001b[90m<dbl>\u001b[39m\u001b[23m 0, 6, 2, 28, 49, 178, 181, 233, 217, 235, 362, 186, 3…\n",
            "$ lebih_baik       \u001b[3m\u001b[90m<lgl>\u001b[39m\u001b[23m FALSE, TRUE, FALSE, FALSE, FALSE, FALSE, FALSE, TRUE,…\n"
          ],
          "name": "stdout"
        }
      ]
    },
    {
      "cell_type": "code",
      "metadata": {
        "colab": {
          "base_uri": "https://localhost:8080/",
          "height": 437
        },
        "id": "GKK5IjaMMsGM",
        "outputId": "bdc7ff86-8b6f-41e4-bbbe-955da2ecacb7"
      },
      "source": [
        "ggplot(cov_jabar_pekanan, aes(pekan_ke, jumlah, fill=lebih_baik))+\n",
        "  geom_col(show.legend = FALSE) +\n",
        "  scale_x_continuous(expand = c(0,0))+\n",
        "  scale_fill_manual(values = c(\"TRUE\"=\"seagreen3\", \"FALSE\"=\"salmon\"))+\n",
        "  labs(\n",
        "    x=NULL,\n",
        "    y=\"Jumlah kasus\",\n",
        "    title = \"Kasus Pekanan Positif COVID-19 di Jawa Barat\",\n",
        "    subtitle = \"Kolom hijau menunjukan penambahan kasus baru lebih sedikit dibanding satu pekan sebelumnya\",\n",
        "    caption = \"Sumber data: covid.19.go.id\"\n",
        "  )"
      ],
      "execution_count": 100,
      "outputs": [
        {
          "output_type": "display_data",
          "data": {
            "image/png": "[encoded data removed]",
            "text/plain": [
              "plot without title"
            ]
          },
          "metadata": {
            "tags": [],
            "image/png": {
              "width": 420,
              "height": 420
            }
          }
        }
      ]
    },
    {
      "cell_type": "code",
      "metadata": {
        "colab": {
          "base_uri": "https://localhost:8080/",
          "height": 282
        },
        "id": "gclReypDM1Ax",
        "outputId": "83e188c1-9430-418e-b2b5-61e5b3ba9686"
      },
      "source": [
        "cov_jabar_akumulasi <- new_cov_jabar %>%\n",
        "  transmute(\n",
        "    tanggal,\n",
        "    akumulasi_aktif = cumsum(kasus_baru) - cumsum(sembuh) - cumsum(meninggal),\n",
        "    akumulasi_sembuh = cumsum(sembuh),\n",
        "    akumulasi_meninggal = cumsum(meninggal)\n",
        "  )\n",
        "tail(cov_jabar_akumulasi)"
      ],
      "execution_count": 101,
      "outputs": [
        {
          "output_type": "display_data",
          "data": {
            "text/plain": [
              "    tanggal    akumulasi_aktif akumulasi_sembuh akumulasi_meninggal\n",
              "473 2022-05-19 25338           307843           4483               \n",
              "474 2022-05-20 26781           309142           4532               \n",
              "475 2022-05-21 27824           310188           4547               \n",
              "476 2022-05-22 28765           311194           4609               \n",
              "477 2022-05-23 30204           312446           4637               \n",
              "478 2022-05-24 32573           313440           4706               "
            ],
            "text/latex": "A data.frame: 6 × 4\n\\begin{tabular}{r|llll}\n  & tanggal & akumulasi\\_aktif & akumulasi\\_sembuh & akumulasi\\_meninggal\\\\\n  & <date> & <int> & <int> & <int>\\\\\n\\hline\n\t473 & 2022-05-19 & 25338 & 307843 & 4483\\\\\n\t474 & 2022-05-20 & 26781 & 309142 & 4532\\\\\n\t475 & 2022-05-21 & 27824 & 310188 & 4547\\\\\n\t476 & 2022-05-22 & 28765 & 311194 & 4609\\\\\n\t477 & 2022-05-23 & 30204 & 312446 & 4637\\\\\n\t478 & 2022-05-24 & 32573 & 313440 & 4706\\\\\n\\end{tabular}\n",
            "text/markdown": "\nA data.frame: 6 × 4\n\n| <!--/--> | tanggal &lt;date&gt; | akumulasi_aktif &lt;int&gt; | akumulasi_sembuh &lt;int&gt; | akumulasi_meninggal &lt;int&gt; |\n|---|---|---|---|---|\n| 473 | 2022-05-19 | 25338 | 307843 | 4483 |\n| 474 | 2022-05-20 | 26781 | 309142 | 4532 |\n| 475 | 2022-05-21 | 27824 | 310188 | 4547 |\n| 476 | 2022-05-22 | 28765 | 311194 | 4609 |\n| 477 | 2022-05-23 | 30204 | 312446 | 4637 |\n| 478 | 2022-05-24 | 32573 | 313440 | 4706 |\n\n",
            "text/html": [
              "<table class=\"dataframe\">\n",
              "<caption>A data.frame: 6 × 4</caption>\n",
              "<thead>\n",
              "\t<tr><th></th><th scope=col>tanggal</th><th scope=col>akumulasi_aktif</th><th scope=col>akumulasi_sembuh</th><th scope=col>akumulasi_meninggal</th></tr>\n",
              "\t<tr><th></th><th scope=col>&lt;date&gt;</th><th scope=col>&lt;int&gt;</th><th scope=col>&lt;int&gt;</th><th scope=col>&lt;int&gt;</th></tr>\n",
              "</thead>\n",
              "<tbody>\n",
              "\t<tr><th scope=row>473</th><td>2022-05-19</td><td>25338</td><td>307843</td><td>4483</td></tr>\n",
              "\t<tr><th scope=row>474</th><td>2022-05-20</td><td>26781</td><td>309142</td><td>4532</td></tr>\n",
              "\t<tr><th scope=row>475</th><td>2022-05-21</td><td>27824</td><td>310188</td><td>4547</td></tr>\n",
              "\t<tr><th scope=row>476</th><td>2022-05-22</td><td>28765</td><td>311194</td><td>4609</td></tr>\n",
              "\t<tr><th scope=row>477</th><td>2022-05-23</td><td>30204</td><td>312446</td><td>4637</td></tr>\n",
              "\t<tr><th scope=row>478</th><td>2022-05-24</td><td>32573</td><td>313440</td><td>4706</td></tr>\n",
              "</tbody>\n",
              "</table>\n"
            ]
          },
          "metadata": {
            "tags": []
          }
        }
      ]
    },
    {
      "cell_type": "code",
      "metadata": {
        "colab": {
          "base_uri": "https://localhost:8080/"
        },
        "id": "PBdN_P_ZM3bX",
        "outputId": "43791f85-d05e-4f00-8feb-e7bdd4713b2a"
      },
      "source": [
        "install.packages(\"tidyr\")\n",
        "library(tidyr)"
      ],
      "execution_count": 102,
      "outputs": [
        {
          "output_type": "stream",
          "text": [
            "Installing package into ‘/usr/local/lib/R/site-library’\n",
            "(as ‘lib’ is unspecified)\n",
            "\n"
          ],
          "name": "stderr"
        }
      ]
    },
    {
      "cell_type": "code",
      "metadata": {
        "colab": {
          "base_uri": "https://localhost:8080/",
          "height": 140
        },
        "id": "ZFXE2xDWM7eA",
        "outputId": "96b45e7c-f3ca-4a57-9132-9249730f0d9d"
      },
      "source": [
        "dim(cov_jabar_akumulasi)\n",
        "\n",
        "cov_jabar_akumulasi_pivot <- cov_jabar_akumulasi %>%\n",
        "  pivot_longer(\n",
        "    cols = -tanggal,\n",
        "    names_to = \"kategori\",\n",
        "    names_prefix = \"akumulasi_\",\n",
        "    values_to = \"jumlah\"\n",
        "  ) %>%\n",
        "  mutate(\n",
        "    kategori = sub(pattern = \"akumulasi_\", replacement = \"\", kategori)\n",
        "  )\n",
        "dim(cov_jabar_akumulasi_pivot)\n",
        "glimpse(cov_jabar_akumulasi_pivot)"
      ],
      "execution_count": 103,
      "outputs": [
        {
          "output_type": "display_data",
          "data": {
            "text/plain": [
              "[1] 478   4"
            ],
            "text/latex": "\\begin{enumerate*}\n\\item 478\n\\item 4\n\\end{enumerate*}\n",
            "text/markdown": "1. 478\n2. 4\n\n\n",
            "text/html": [
              "<style>\n",
              ".list-inline {list-style: none; margin:0; padding: 0}\n",
              ".list-inline>li {display: inline-block}\n",
              ".list-inline>li:not(:last-child)::after {content: \"\\00b7\"; padding: 0 .5ex}\n",
              "</style>\n",
              "<ol class=list-inline><li>478</li><li>4</li></ol>\n"
            ]
          },
          "metadata": {
            "tags": []
          }
        },
        {
          "output_type": "display_data",
          "data": {
            "text/plain": [
              "[1] 1434    3"
            ],
            "text/latex": "\\begin{enumerate*}\n\\item 1434\n\\item 3\n\\end{enumerate*}\n",
            "text/markdown": "1. 1434\n2. 3\n\n\n",
            "text/html": [
              "<style>\n",
              ".list-inline {list-style: none; margin:0; padding: 0}\n",
              ".list-inline>li {display: inline-block}\n",
              ".list-inline>li:not(:last-child)::after {content: \"\\00b7\"; padding: 0 .5ex}\n",
              "</style>\n",
              "<ol class=list-inline><li>1434</li><li>3</li></ol>\n"
            ]
          },
          "metadata": {
            "tags": []
          }
        },
        {
          "output_type": "stream",
          "text": [
            "Rows: 1,434\n",
            "Columns: 3\n",
            "$ tanggal  \u001b[3m\u001b[90m<date>\u001b[39m\u001b[23m 2021-02-01, 2021-02-01, 2021-02-01, 2021-02-02, 2021-02-02, …\n",
            "$ kategori \u001b[3m\u001b[90m<chr>\u001b[39m\u001b[23m \"aktif\", \"sembuh\", \"meninggal\", \"aktif\", \"sembuh\", \"meninggal…\n",
            "$ jumlah   \u001b[3m\u001b[90m<int>\u001b[39m\u001b[23m 3, 0, 0, 3, 0, 1, 4, 0, 1, 5, 0, 1, 6, 0, 1, 6, 0, 1, 6, 0, 1…\n"
          ],
          "name": "stdout"
        }
      ]
    },
    {
      "cell_type": "code",
      "metadata": {
        "colab": {
          "base_uri": "https://localhost:8080/",
          "height": 437
        },
        "id": "iPGXq2oWNJoU",
        "outputId": "5bc53f77-7ece-4fef-cd64-fa3f3fc0dbd6"
      },
      "source": [
        "ggplot(cov_jabar_akumulasi_pivot, aes(tanggal, jumlah/1e3, colour=(kategori)))+\n",
        "  geom_line(size=0.9) +\n",
        "  scale_y_continuous(sec.axis = dup_axis(name = NULL))+\n",
        "  scale_colour_manual(\n",
        "    values = c(\n",
        "      \"aktif\" = \"salmon\",\n",
        "      \"meninggal\" = \"darkslategray4\",\n",
        "      \"sembuh\" = \"olivedrab2\"\n",
        "      ),\n",
        "    labels = c(\"Aktif\", \"Meninggal\",\"Sembuh\")\n",
        "    )+\n",
        "  labs(\n",
        "    x=NULL,\n",
        "    y=\"Jumlah kasus akumulatif (satuan Ribuan)\",\n",
        "    colour = NULL,\n",
        "    title = \"Dinamika Kasus COVID-19 di Jawa Barat\",\n",
        "    caption = \"Sumber data: covid.19.go.id\"\n",
        "  )"
      ],
      "execution_count": 104,
      "outputs": [
        {
          "output_type": "display_data",
          "data": {
            "image/png": "[encoded data removed]",
            "text/plain": [
              "plot without title"
            ]
          },
          "metadata": {
            "tags": [],
            "image/png": {
              "width": 420,
              "height": 420
            }
          }
        }
      ]
    }
  ]
}